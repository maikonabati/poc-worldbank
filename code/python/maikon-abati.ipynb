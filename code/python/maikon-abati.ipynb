{
 "cells": [
  {
   "cell_type": "markdown",
   "metadata": {},
   "source": [
    "\n",
    "Este teste visa testar suas habilidades estatísticas e de programação. Junto com este notebook, foi disponibilizado uma base `.csv` que está pré-carregada através do código abaixo em Python 3. \n",
    "\n",
    "Para resolver o teste, crie novos blocos de código e/ou markdown após a pergunta. Se preferir, pode usar R ou outra linguagem de sua preferência para fazer o teste, contanto que consiga salvar e rodar no Jupyter Notebook - para mais informações sobre como instalar outras linguagens no Jupyter, [clique aqui](http://jupyter.readthedocs.io/en/latest/install-kernel.html). Ao terminar o teste, responda o email com o arquivo do notebook editado e salvo com o seu nome. "
   ]
  },
  {
   "cell_type": "markdown",
   "metadata": {},
   "source": [
    "## import"
   ]
  },
  {
   "cell_type": "code",
   "execution_count": 1,
   "metadata": {},
   "outputs": [],
   "source": [
    "import pandas as pd\n",
    "import matplotlib.pyplot as plt"
   ]
  },
  {
   "cell_type": "markdown",
   "metadata": {},
   "source": [
    "## datasets"
   ]
  },
  {
   "cell_type": "code",
   "execution_count": 24,
   "metadata": {},
   "outputs": [],
   "source": [
    "# importando os indicadores\n",
    "indicators = pd.read_csv('Indicators.csv')\n",
    "\n",
    "# dataset de países da união européia\n",
    "eu_countries = ['European Union', 'Austria','Belgium', 'Bulgaria', 'Croatia', 'Cyprus',\n",
    "                'Czech Republic', 'Denmark', 'Estonia', 'Finland', 'France', 'Germany', 'Greece',\n",
    "                'Hungary', 'Ireland', 'Italy', 'Latvia', 'Lithuania', 'Luxembourg', 'Malta',\n",
    "                'Netherlands', 'Poland', 'Portugal', 'Romania', 'Slovakia', 'Slovenia', 'Spain',\n",
    "                'Sweden', 'United Kingdom']\n",
    "\n",
    "# definindo apenas a base de indicadores da união européia\n",
    "eu = indicators[indicators['CountryName'].isin(eu_countries)]"
   ]
  },
  {
   "cell_type": "markdown",
   "metadata": {},
   "source": [
    "### Questão 1 ###\n",
    "Mostre graficamente a evolução da taxa de fertilidade e do Produto Interno Bruto na União Européia."
   ]
  },
  {
   "cell_type": "markdown",
   "metadata": {
    "collapsed": true
   },
   "source": [
    "#### Resposta: "
   ]
  },
  {
   "cell_type": "code",
   "execution_count": null,
   "metadata": {},
   "outputs": [],
   "source": [
    "# GDP (current US$)\n",
    "# https://data.worldbank.org/indicator/NY.GDP.MKTP.CD\n",
    "\n",
    "# Fertility rate, total (births per woman)\n",
    "# https://data.worldbank.org/indicator/SP.DYN.TFRT.IN\n",
    "\n"
   ]
  },
  {
   "cell_type": "markdown",
   "metadata": {},
   "source": [
    "### Questão 2 ###\n",
    "Podemos afirmar que existe uma correlação entre a taxa de fertilidade e do Produto Interno Bruto na União Européia? Explique."
   ]
  },
  {
   "cell_type": "markdown",
   "metadata": {
    "collapsed": true
   },
   "source": [
    "#### Resposta: "
   ]
  },
  {
   "cell_type": "code",
   "execution_count": null,
   "metadata": {},
   "outputs": [],
   "source": [
    "# resposta código"
   ]
  },
  {
   "cell_type": "markdown",
   "metadata": {
    "collapsed": true
   },
   "source": [
    "### Questão 3 ###\n",
    "Podemos afirmar com as informações das questões anteriores que _\"o crescimento do PIB levou a uma redução da taxa de fertilidade na União Européia\"_?. Explique."
   ]
  },
  {
   "cell_type": "markdown",
   "metadata": {
    "collapsed": true
   },
   "source": [
    "#### Resposta: "
   ]
  },
  {
   "cell_type": "code",
   "execution_count": null,
   "metadata": {},
   "outputs": [],
   "source": [
    "# resposta código"
   ]
  },
  {
   "cell_type": "markdown",
   "metadata": {},
   "source": [
    "### Questão 4 ###\n",
    "\n",
    "Consumo, segundo [Keynes](https://en.wikipedia.org/wiki/John_Maynard_Keynes) (economista inglês), é uma função linear de um componente \n",
    "\n",
    "autônomo invariável que é independente da renda disponível (_a_) e da proporção da renda alocada para consumo (_b_) multiplicada pela renda (_Y_), conforme abaixo:\n",
    "\n",
    "$$C = a + b * Y$$\n",
    "\n",
    "O parâmetro _b_ é conhecido como a propensão marginal a consumir, ou seja, o crescimento no consumo decorrente de um aumento na renda disponível.\n",
    "\n",
    "Faça a regressão da equação acima por `Mínimos Quadrados Ordinários` utilizando _Household final consumption expenditure (constant 2005 US\\$)_ como proxy para o consumo, o _GDP at market prices (constant 2005 US$)_ como proxy para a renda disponível utilizando os dados de cada um dos países membros da União Européia. Podemos rejeitar a hipótese de que o parâmetro _b_ é igual a zero? Comente.\n",
    "\n"
   ]
  },
  {
   "cell_type": "markdown",
   "metadata": {
    "collapsed": true
   },
   "source": [
    "#### Resposta: "
   ]
  },
  {
   "cell_type": "code",
   "execution_count": null,
   "metadata": {},
   "outputs": [],
   "source": [
    "# resposta código"
   ]
  },
  {
   "cell_type": "markdown",
   "metadata": {},
   "source": [
    "### Questão 5\n",
    "\n",
    "Utilizando todas variáveis disponíveis na base de dados, construa o melhor modelo para explicar a taxa de fertilidade com até 5 variáveis. \n"
   ]
  },
  {
   "cell_type": "markdown",
   "metadata": {},
   "source": [
    "#### Resposta: "
   ]
  },
  {
   "cell_type": "code",
   "execution_count": null,
   "metadata": {},
   "outputs": [],
   "source": [
    "# resposta código"
   ]
  }
 ],
 "metadata": {
  "kernelspec": {
   "display_name": "Python 3",
   "language": "python",
   "name": "python3"
  },
  "language_info": {
   "codemirror_mode": {
    "name": "ipython",
    "version": 3
   },
   "file_extension": ".py",
   "mimetype": "text/x-python",
   "name": "python",
   "nbconvert_exporter": "python",
   "pygments_lexer": "ipython3",
   "version": "3.6.5"
  }
 },
 "nbformat": 4,
 "nbformat_minor": 2
}
