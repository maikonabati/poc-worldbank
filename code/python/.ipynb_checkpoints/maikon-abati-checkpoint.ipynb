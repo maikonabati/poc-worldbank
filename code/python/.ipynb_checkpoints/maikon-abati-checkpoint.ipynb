{
 "cells": [
  {
   "cell_type": "markdown",
   "metadata": {},
   "source": [
    "\n",
    "Este teste visa testar suas habilidades estatísticas e de programação. Junto com este notebook, foi disponibilizado uma base `.csv` que está pré-carregada através do código abaixo em Python 3. \n",
    "\n",
    "Para resolver o teste, crie novos blocos de código e/ou markdown após a pergunta. Se preferir, pode usar R ou outra linguagem de sua preferência para fazer o teste, contanto que consiga salvar e rodar no Jupyter Notebook - para mais informações sobre como instalar outras linguagens no Jupyter, [clique aqui](http://jupyter.readthedocs.io/en/latest/install-kernel.html). Ao terminar o teste, responda o email com o arquivo do notebook editado e salvo com o seu nome. "
   ]
  },
  {
   "cell_type": "markdown",
   "metadata": {},
   "source": [
    "## import"
   ]
  },
  {
   "cell_type": "code",
   "execution_count": null,
   "metadata": {},
   "outputs": [],
   "source": [
    "import pandas as pd\n",
    "import matplotlib.pyplot as plt\n",
    "import numpy as np\n",
    "import time\n",
    "\n",
    "from sklearn import externals\n",
    "from sklearn.metrics import accuracy_score\n",
    "from sklearn.linear_model import LinearRegression, SGDRegressor, Lasso, Ridge, ElasticNet\n",
    "from sklearn.ensemble import GradientBoostingRegressor, BaggingRegressor, RandomForestRegressor, ExtraTreesRegressor, AdaBoostRegressor\n",
    "from sklearn.model_selection import train_test_split, cross_val_score\n",
    "import pickle\n",
    "\n",
    "import lime\n",
    "import lime.lime_tabular\n",
    "\n",
    "from yellowbrick.regressor import ResidualsPlot\n",
    "from fancyimpute import SoftImpute\n",
    "\n",
    "import warnings\n",
    "warnings.filterwarnings('ignore')"
   ]
  },
  {
   "cell_type": "markdown",
   "metadata": {},
   "source": [
    "## functions & var"
   ]
  },
  {
   "cell_type": "code",
   "execution_count": null,
   "metadata": {},
   "outputs": [],
   "source": [
    "modelos = [\n",
    "    GradientBoostingRegressor, BaggingRegressor, RandomForestRegressor, ExtraTreesRegressor, AdaBoostRegressor,\n",
    "    SGDRegressor, Lasso, Ridge, ElasticNet, LinearRegression,\n",
    "]\n",
    "\n",
    "def fnc_Dummies(df):\n",
    "    for cat_feature in df.select_dtypes(include=['object']).columns:\n",
    "        df[cat_feature] = pd.Categorical(df[cat_feature]).codes\n",
    "        df[cat_feature] = df[cat_feature].replace(-1,np.nan)\n",
    "    return pd.DataFrame(df)\n",
    "\n",
    "def fnc_Imputer(df):\n",
    "    imp_cols = df.columns.values\n",
    "    imputer = SoftImpute()\n",
    "    return pd.DataFrame(imputer.fit_transform(df), columns= imp_cols)"
   ]
  },
  {
   "cell_type": "markdown",
   "metadata": {},
   "source": [
    "## datasets"
   ]
  },
  {
   "cell_type": "code",
   "execution_count": null,
   "metadata": {},
   "outputs": [],
   "source": [
    "# importando os indicadores\n",
    "indicators = pd.read_csv('Indicators.csv')\n",
    "\n",
    "# dataset de países da união européia\n",
    "eu_countries = ['European Union', 'Austria','Belgium', 'Bulgaria', 'Croatia', 'Cyprus',\n",
    "                'Czech Republic', 'Denmark', 'Estonia', 'Finland', 'France', 'Germany', 'Greece',\n",
    "                'Hungary', 'Ireland', 'Italy', 'Latvia', 'Lithuania', 'Luxembourg', 'Malta',\n",
    "                'Netherlands', 'Poland', 'Portugal', 'Romania', 'Slovakia', 'Slovenia', 'Spain',\n",
    "                'Sweden', 'United Kingdom']\n",
    "\n",
    "# definindo apenas a base de indicadores da união européia\n",
    "eu = indicators[indicators['CountryName'].isin(eu_countries)]"
   ]
  },
  {
   "cell_type": "markdown",
   "metadata": {},
   "source": [
    "## Questão 1 ###\n",
    "Mostre graficamente a evolução da taxa de fertilidade e do Produto Interno Bruto na União Européia."
   ]
  },
  {
   "cell_type": "markdown",
   "metadata": {
    "collapsed": true
   },
   "source": [
    "#### Resposta: "
   ]
  },
  {
   "cell_type": "code",
   "execution_count": null,
   "metadata": {},
   "outputs": [],
   "source": [
    "# GDP (current US$)\n",
    "# https://data.worldbank.org/indicator/NY.GDP.MKTP.CD\n",
    "pib_cod = 'NY.GDP.MKTP.CD'\n",
    "pib_nome = 'GDP (current US$)'\n",
    "\n",
    "# Fertility rate, total (births per woman)\n",
    "# https://data.worldbank.org/indicator/SP.DYN.TFRT.IN\n",
    "fertilidade_cod = 'SP.DYN.TFRT.IN'\n",
    "fertilidade_nome = 'Fertility rate, total (births per woman)'\n",
    "\n",
    "# Filtro para UE\n",
    "df_grafico = eu[eu['CountryName']=='European Union']\n",
    "\n",
    "# Dados para gráfico\n",
    "data1 = df_grafico[df_grafico['IndicatorCode']==pib_cod]['Value'].values\n",
    "data1_year = df_grafico[df_grafico['IndicatorCode']==pib_cod]['Year'].values\n",
    "\n",
    "data2 = df_grafico[df_grafico['IndicatorCode']==fertilidade_cod]['Value'].values\n",
    "data2_year = df_grafico[df_grafico['IndicatorCode']==fertilidade_cod]['Year'].values\n",
    "\n",
    "fig, ax1 = plt.subplots()\n",
    "\n",
    "color = 'tab:blue'\n",
    "ax1.set_xlabel('Year')\n",
    "ax1.set_ylabel(pib_nome, color=color)\n",
    "ax1.plot(data1_year, data1, color=color)\n",
    "ax1.tick_params(axis='y', labelcolor=color)\n",
    "\n",
    "ax2 = ax1.twinx()  \n",
    "color = 'tab:red'\n",
    "ax2.set_ylabel(fertilidade_nome, color=color)  \n",
    "ax2.plot(data2_year, data2, color=color)\n",
    "ax2.tick_params(axis='y', labelcolor=color)\n",
    "\n",
    "fig.tight_layout()  \n",
    "plt.show()"
   ]
  },
  {
   "cell_type": "markdown",
   "metadata": {},
   "source": [
    "## Questão 2 ###\n",
    "Podemos afirmar que existe uma correlação entre a taxa de fertilidade e do Produto Interno Bruto na União Européia? Explique."
   ]
  },
  {
   "cell_type": "markdown",
   "metadata": {
    "collapsed": true
   },
   "source": [
    "#### Resposta: "
   ]
  },
  {
   "cell_type": "markdown",
   "metadata": {},
   "source": [
    "### Sim, existe uma correlação, mas é negativa. A taxa de fertilidade da UE é inversamente proporcional ao PIB, ou seja, quanto maior é o PIB menor é a taxa."
   ]
  },
  {
   "cell_type": "code",
   "execution_count": null,
   "metadata": {},
   "outputs": [],
   "source": [
    "# Anos com valores\n",
    "# df_grafico[df_grafico['IndicatorCode'].isin([fertilidade_cod,pib_cod])].groupby('Year').count()"
   ]
  },
  {
   "cell_type": "code",
   "execution_count": null,
   "metadata": {
    "scrolled": true
   },
   "outputs": [],
   "source": [
    "df_lr = df_grafico[df_grafico['Year']<2014]\n",
    "\n",
    "x = df_lr[df_lr['IndicatorCode']==fertilidade_cod]['Value'].values\n",
    "y = df_lr[df_lr['IndicatorCode']==pib_cod]['Value'].values\n",
    "\n",
    "fit = np.polyfit(x,y,1)\n",
    "fit_fn = np.poly1d(fit)\n",
    "\n",
    "plt.title(fertilidade_nome[:14]+'... vs '+pib_nome)\n",
    "plt.xlabel(pib_nome)\n",
    "plt.ylabel(fertilidade_nome)\n",
    "\n",
    "plt.plot(x,y, 'yo', x, fit_fn(x), '--k')\n",
    "\n",
    "print('Correlação de Pearson: ',np.corrcoef(x,y)[1][0])"
   ]
  },
  {
   "cell_type": "markdown",
   "metadata": {
    "collapsed": true
   },
   "source": [
    "## Questão 3 ###\n",
    "Podemos afirmar com as informações das questões anteriores que _\"o crescimento do PIB levou a uma redução da taxa de fertilidade na União Européia\"_?. Explique."
   ]
  },
  {
   "cell_type": "markdown",
   "metadata": {
    "collapsed": true
   },
   "source": [
    "#### Resposta: "
   ]
  },
  {
   "cell_type": "markdown",
   "metadata": {},
   "source": [
    "### Correlação não implica causa! \n",
    "\n",
    "### Pouco provável, não podemos concluir que a resposta para a redução é só o PIB. Precisamos utilizar mais variáveis para tentar responder esse evento de redução, pois ele é complexo e sabemos que existem muitas variáveis envolvidas. Seria interessante utilizar modelos de machine learning ou deep learning para tentar responder esse evento com mais precisão."
   ]
  },
  {
   "cell_type": "markdown",
   "metadata": {},
   "source": [
    "## Questão 4 ###\n",
    "\n",
    "Consumo, segundo [Keynes](https://en.wikipedia.org/wiki/John_Maynard_Keynes) (economista inglês), é uma função linear de um componente \n",
    "\n",
    "autônomo invariável que é independente da renda disponível (_a_) e da proporção da renda alocada para consumo (_b_) multiplicada pela renda (_Y_), conforme abaixo:\n",
    "\n",
    "$$C = a + b * Y$$\n",
    "\n",
    "O parâmetro _b_ é conhecido como a propensão marginal a consumir, ou seja, o crescimento no consumo decorrente de um aumento na renda disponível.\n",
    "\n",
    "Faça a regressão da equação acima por `Mínimos Quadrados Ordinários` utilizando _Household final consumption expenditure (constant 2005 US\\$)_ como proxy para o consumo, o _GDP at market prices (constant 2005 US$)_ como proxy para a renda disponível utilizando os dados de cada um dos países membros da União Européia. Podemos rejeitar a hipótese de que o parâmetro _b_ é igual a zero? Comente.\n",
    "\n"
   ]
  },
  {
   "cell_type": "markdown",
   "metadata": {
    "collapsed": true
   },
   "source": [
    "#### Resposta: "
   ]
  },
  {
   "cell_type": "markdown",
   "metadata": {},
   "source": [
    "### Sim, podemos. O consumo de fato subiu durante o crescimento da renda.\n",
    "### O modelo de regressão linear apresentou R² de 0.99, assim indicando forte relação entre as variáveis utilizadas. A distribuição de erros é uma curva normal e as variáveis apresentam relação linear, esses são pré-requisitos fundamentais para um modelo linear. Seguem as evidências:"
   ]
  },
  {
   "cell_type": "markdown",
   "metadata": {},
   "source": [
    "#### Preparando Dataset"
   ]
  },
  {
   "cell_type": "code",
   "execution_count": null,
   "metadata": {},
   "outputs": [],
   "source": [
    "# Conversão do dataset\n",
    "var_x = 'Household final consumption expenditure (constant 2005 US$)'\n",
    "var_y = 'GDP at market prices (constant 2005 US$)'\n",
    "df_mqo = eu[(~eu['CountryName'].isin(['European Union'])) & eu['IndicatorName'].isin([var_x,var_y])]\n",
    "\n",
    "anos = df_mqo['Year'].unique()\n",
    "paises = df_mqo['CountryName'].unique()\n",
    "lista = [(x, y) for x in anos for y in paises]\n",
    "\n",
    "df_mqo_v2 = pd.DataFrame(columns=['Year','CountryName',var_x,var_y],dtype=np.float)\n",
    "\n",
    "df_mqo_v2['Year'] = np.asarray([ano for ano,pais in lista])\n",
    "df_mqo_v2['CountryName'] = np.asarray([pais for ano,pais in lista])\n",
    "\n",
    "for index, row in df_mqo.iterrows():\n",
    "    if row['IndicatorName'] == var_x:\n",
    "        df_mqo_v2.loc[(df_mqo_v2['Year'] == row['Year']) & (df_mqo_v2['CountryName'] == row['CountryName']), var_x] = row['Value']\n",
    "    else:\n",
    "        df_mqo_v2.loc[(df_mqo_v2['Year'] == row['Year']) & (df_mqo_v2['CountryName'] == row['CountryName']), var_y] = row['Value']"
   ]
  },
  {
   "cell_type": "markdown",
   "metadata": {},
   "source": [
    "#### Modelo Linear - Resultados"
   ]
  },
  {
   "cell_type": "code",
   "execution_count": null,
   "metadata": {},
   "outputs": [],
   "source": [
    "# Faz cópia de dataset\n",
    "df_mqo_v3 = df_mqo_v2.dropna().copy()\n",
    "\n",
    "# Converte variáveis categóricas\n",
    "df_mqo_v3 = fnc_Dummies(df=df_mqo_v3)\n",
    "\n",
    "# Variáveis para treino\n",
    "feature_names = ['Year', 'CountryName', var_x]\n",
    "target_name = var_y\n",
    "X = df_mqo_v3[feature_names]\n",
    "y = df_mqo_v3[target_name]\n",
    "\n",
    "# Separa dados para treino e teste\n",
    "X_train, X_test, y_train, y_test = train_test_split(X, y, test_size=0.2)\n",
    "\n",
    "# Prepara modelo para gráfico\n",
    "model = LinearRegression()\n",
    "visualizer = ResidualsPlot(model)\n",
    "visualizer.fit(X_train, y_train)\n",
    "visualizer.score(X_test, y_test)\n",
    "visualizer.poof()"
   ]
  },
  {
   "cell_type": "markdown",
   "metadata": {},
   "source": [
    "#### Correlação"
   ]
  },
  {
   "cell_type": "code",
   "execution_count": null,
   "metadata": {},
   "outputs": [],
   "source": [
    "x = df_mqo_v3[var_x].values\n",
    "y = df_mqo_v3[var_y].values\n",
    "\n",
    "fit = np.polyfit(x,y,1)\n",
    "fit_fn = np.poly1d(fit)\n",
    "\n",
    "plt.title('Regressão linear')\n",
    "plt.xlabel(var_x)\n",
    "plt.ylabel(var_y)\n",
    "\n",
    "plt.plot(x,y, 'yo', x, fit_fn(x), '--k')\n",
    "\n",
    "print('Correlação de Pearson: ',np.corrcoef(x,y)[1][0])"
   ]
  },
  {
   "cell_type": "markdown",
   "metadata": {},
   "source": [
    "## Questão 5\n",
    "\n",
    "Utilizando todas variáveis disponíveis na base de dados, construa o melhor modelo para explicar a taxa de fertilidade com até 5 variáveis. \n"
   ]
  },
  {
   "cell_type": "markdown",
   "metadata": {},
   "source": [
    "#### Resposta: "
   ]
  },
  {
   "cell_type": "markdown",
   "metadata": {},
   "source": [
    "### Data preparation & Missing Values"
   ]
  },
  {
   "cell_type": "code",
   "execution_count": null,
   "metadata": {},
   "outputs": [],
   "source": [
    "# Cópia de dataframe\n",
    "df_new = eu[(~eu['CountryName'].isin(['European Union']))]\n",
    "df_new.Year.astype('category')\n",
    "\n",
    "# Pivot table para Indicadores\n",
    "df_new_v2 = pd.pivot_table(df_new, values='Value', index=['Year','CountryName'], columns='IndicatorName')\n",
    "df_new_v2.insert(loc=0, column='CountryName', value=df_new_v2.index.get_level_values('CountryName') )\n",
    "df_new_v2.insert(loc=0, column='Year', value=df_new_v2.index.get_level_values('Year') )\n",
    "\n",
    "# Converte variáveis categóricas\n",
    "df_new_v2 = fnc_Dummies(df=df_new_v2)"
   ]
  },
  {
   "cell_type": "code",
   "execution_count": null,
   "metadata": {},
   "outputs": [],
   "source": [
    "# Elimina features com menos de 30% de dados\n",
    "df = df_new_v2.copy()\n",
    "df_new_v3 = df[[column for column in df if df[column].count() / len(df) >= 0.3]]\n",
    "\n",
    "print(\"Lista de fatos excluídos:\\n\\n Total excluído:\", round(len(df_new_v3.columns)/len(df.columns),2)*100,'%\\n\\n', end=\" \")\n",
    "\n",
    "for c in df.columns:\n",
    "    if c not in df_new_v3.columns:\n",
    "        print(c, end=\"\\n \")\n",
    "\n",
    "# Missing Values\n",
    "df_new_v3 = fnc_Imputer(df_new_v2)"
   ]
  },
  {
   "cell_type": "code",
   "execution_count": null,
   "metadata": {},
   "outputs": [],
   "source": [
    "# Matriz de Correlação da Fertilidade\n",
    "df_corr = df_new_v3.corr()\n",
    "df_corr[[fertilidade_nome]].sort_values(by=fertilidade_nome,ascending=False)"
   ]
  },
  {
   "cell_type": "code",
   "execution_count": null,
   "metadata": {
    "scrolled": true
   },
   "outputs": [],
   "source": [
    "# Variável de interesse\n",
    "var_interesse = fertilidade_nome\n",
    "\n",
    "# Escopo de treino/test\n",
    "colunas = list(df_new_v3.columns)\n",
    "colunas.remove(fertilidade_nome)\n",
    "feature_names = colunas\n",
    "target_name = var_interesse\n",
    "X = df_new_v3[feature_names]\n",
    "y = df_new_v3[target_name]\n",
    "\n",
    "# Separa dados para treino e teste\n",
    "X_train, X_test, y_train, y_test = train_test_split(X, y, test_size=0.2)\n",
    "\n",
    "# Lista de resultados\n",
    "resultados = [['status','var','model','mean','std','time','scores','caminho']]\n",
    "\n",
    "# Score dos modelos\n",
    "print('='*100)\n",
    "print(var_interesse)\n",
    "print('='*100)\n",
    "\n",
    "Y = df_new_v3[[var_interesse]].values.ravel()\n",
    "\n",
    "for var in modelos:\n",
    "    start = time.time()\n",
    "    try:\n",
    "        filename = str('../../models/'+var.__name__+'.model')\n",
    "        print(var)\n",
    "        clf = var()\n",
    "\n",
    "        # Calcula o score\n",
    "        scores = cross_val_score(clf, df_new_v4, Y, cv=10, error_score='raise')\n",
    "        print('Mean score: ',np.mean(scores), '/ Std Score: ',np.std(scores))\n",
    "        resultados.append(['ok',var_interesse,var.__name__,np.mean(scores),np.std(scores),time.time() - start,scores,filename])\n",
    "\n",
    "        # Salva modelo            \n",
    "        model = clf.fit(X_train, y_train)\n",
    "        externals.joblib.dump(model,filename)\n",
    "\n",
    "    except(Exception):\n",
    "        print('>> Validar parâmetros.')\n",
    "        resultados.append(['erro',var_interesse,var.__name__,None,None,time.time() - start,None,None])\n",
    "        pass\n",
    "    finally:            \n",
    "        print('-'*100)"
   ]
  },
  {
   "cell_type": "code",
   "execution_count": null,
   "metadata": {},
   "outputs": [],
   "source": [
    "# Salva planilhas com score de modelos\n",
    "writer = pd.ExcelWriter('../../dist/resultados_modelos.xlsx', engine='xlsxwriter')\n",
    "df_final = pd.DataFrame(resultados[1:])\n",
    "df_final.columns = resultados[0]\n",
    "df_final.to_excel(writer, sheet_name='Sheet1', index=False)\n",
    "writer.save()"
   ]
  },
  {
   "cell_type": "code",
   "execution_count": null,
   "metadata": {},
   "outputs": [],
   "source": [
    "df_final.sort_values(by=['mean'], ascending=False)"
   ]
  },
  {
   "cell_type": "code",
   "execution_count": null,
   "metadata": {},
   "outputs": [],
   "source": [
    "# Carrega melhor modelo\n",
    "model = externals.joblib.load(df_final.sort_values(by=['mean'], ascending=False)['caminho'][0])\n",
    "\n",
    "# Acurácia do modelo de regressão\n",
    "model.score(X_test, y_test)"
   ]
  },
  {
   "cell_type": "code",
   "execution_count": null,
   "metadata": {},
   "outputs": [],
   "source": [
    "# Preparando modelo Lime\n",
    "explainer = lime.lime_tabular.LimeTabularExplainer(\n",
    "    X_train.values,\n",
    "    feature_names=list(X_train.columns), \n",
    "    class_names=[var_interesse],\n",
    "    verbose=True, \n",
    "    mode='regression'\n",
    ")"
   ]
  },
  {
   "cell_type": "code",
   "execution_count": null,
   "metadata": {},
   "outputs": [],
   "source": [
    "# Define seed para modelo\n",
    "def explain(instance, predict_fn, **kwargs):\n",
    "  np.random.seed(16)\n",
    "  return explainer.explain_instance(instance, predict_fn, **kwargs)\n",
    "\n",
    "# Modelo de predição para teste\n",
    "i = 302\n",
    "exp = explain(X_test.values[i], model.predict, num_features=5)"
   ]
  },
  {
   "cell_type": "code",
   "execution_count": null,
   "metadata": {},
   "outputs": [],
   "source": [
    "# Resultados para 5 features\n",
    "exp.show_in_notebook(show_table=True)"
   ]
  },
  {
   "cell_type": "code",
   "execution_count": null,
   "metadata": {},
   "outputs": [],
   "source": [
    "# Detalhe por variável\n",
    "exp.as_list()"
   ]
  }
 ],
 "metadata": {
  "kernelspec": {
   "display_name": "Python 3",
   "language": "python",
   "name": "python3"
  },
  "language_info": {
   "codemirror_mode": {
    "name": "ipython",
    "version": 3
   },
   "file_extension": ".py",
   "mimetype": "text/x-python",
   "name": "python",
   "nbconvert_exporter": "python",
   "pygments_lexer": "ipython3",
   "version": "3.6.5"
  }
 },
 "nbformat": 4,
 "nbformat_minor": 2
}
